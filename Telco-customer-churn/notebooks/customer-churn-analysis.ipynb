{
 "cells": [
  {
   "attachments": {},
   "cell_type": "markdown",
   "metadata": {},
   "source": [
    "## Telco Customer Churn Analysis\n",
    "### 1. Import packages and merge dataset"
   ]
  },
  {
   "cell_type": "code",
   "execution_count": 1,
   "metadata": {},
   "outputs": [],
   "source": [
    "import pandas as pd\n",
    "import numpy as np\n",
    "import sys\n",
    "import matplotlib.pyplot as plt\n",
    "import seaborn as sns\n",
    "%matplotlib inline\n",
    "\n",
    "import warnings\n",
    "from sklearn.utils import resample\n",
    "from sklearn.linear_model import LogisticRegression\n",
    "from sklearn.preprocessing import StandardScaler, PolynomialFeatures, LabelEncoder\n",
    "from sklearn.metrics import mean_squared_error, roc_curve, auc, roc_auc_score, precision_recall_curve, f1_score, accuracy_score, recall_score\n",
    "from sklearn.model_selection import train_test_split, GridSearchCV\n",
    "from sklearn.neighbors import KNeighborsClassifier\n",
    "from sklearn.tree import DecisionTreeClassifier\n",
    "from sklearn.ensemble import RandomForestClassifier, AdaBoostClassifier, GradientBoostingClassifier\n",
    "from sklearn.naive_bayes import GaussianNB\n",
    "from xgboost import XGBClassifier\n",
    "\n",
    "sys.path.append(\"../src\")\n",
    "import utils"
   ]
  },
  {
   "cell_type": "code",
   "execution_count": 2,
   "metadata": {},
   "outputs": [
    {
     "name": "stdout",
     "output_type": "stream",
     "text": [
      "Before merge: \n",
      "\t Churn data: (7043, 8), \n",
      "\t customer data: (7043, 5), \n",
      "\t service subscription: (7043, 10)\n"
     ]
    }
   ],
   "source": [
    "churn = pd.read_csv('../data/raw/customer-churn.csv')\n",
    "customer = pd.read_csv('../data/raw/customer-data.csv')\n",
    "service = pd.read_csv('../data/raw/service-subscription.csv')\n",
    "print(f'Before merge: \\n\\t Churn data: {churn.shape}, \\n\\t customer data: {customer.shape}, \\n\\t service subscription: {service.shape}')"
   ]
  },
  {
   "cell_type": "code",
   "execution_count": null,
   "metadata": {},
   "outputs": [],
   "source": [
    "temp = pd.merge(churn, customer, how='inner', on=\"customerID\")\n",
    "df = pd.merge(temp, service, how='inner', on='customerID')\n",
    "print(f'After merge: {df.shape}')\n",
    "df.head()"
   ]
  },
  {
   "cell_type": "code",
   "execution_count": null,
   "metadata": {},
   "outputs": [],
   "source": [
    "df.to_csv('../data/final/clean-telco-data.csv')"
   ]
  },
  {
   "attachments": {},
   "cell_type": "markdown",
   "metadata": {},
   "source": [
    "### 2. Data Preprocessing"
   ]
  },
  {
   "cell_type": "code",
   "execution_count": 3,
   "metadata": {},
   "outputs": [],
   "source": [
    "df = pd.read_csv('../data/final/clean-telco-data.csv')"
   ]
  },
  {
   "cell_type": "code",
   "execution_count": 4,
   "metadata": {},
   "outputs": [
    {
     "data": {
      "text/plain": [
       "Unnamed: 0          0.0\n",
       "customerID          0.0\n",
       "StreamingTV         0.0\n",
       "TechSupport         0.0\n",
       "DeviceProtection    0.0\n",
       "OnlineBackup        0.0\n",
       "OnlineSecurity      0.0\n",
       "InternetService     0.0\n",
       "MultipleLines       0.0\n",
       "PhoneService        0.0\n",
       "Dependents          0.0\n",
       "Partner             0.0\n",
       "SeniorCitizen       0.0\n",
       "gender              0.0\n",
       "Churn               0.0\n",
       "TotalCharges        0.0\n",
       "MonthlyCharges      0.0\n",
       "PaymentMethod       0.0\n",
       "PaperlessBilling    0.0\n",
       "Contract            0.0\n",
       "tenure              0.0\n",
       "StreamingMovies     0.0\n",
       "dtype: float64"
      ]
     },
     "execution_count": 4,
     "metadata": {},
     "output_type": "execute_result"
    }
   ],
   "source": [
    "df['TotalCharges'] = pd.to_numeric(df['TotalCharges'], errors='coerce')\n",
    "df.dropna(subset=['TotalCharges'], how='all', inplace=True)\n",
    "\n",
    "utils.check_missing_data(df)"
   ]
  },
  {
   "cell_type": "code",
   "execution_count": 5,
   "metadata": {},
   "outputs": [],
   "source": [
    "label = LabelEncoder()\n",
    "for cat_var in ['gender', 'Partner', 'Dependents', 'PhoneService', 'PaperlessBilling', 'Churn']:\n",
    "    df[cat_var] = label.fit_transform(df[cat_var])\n",
    "\n",
    "df = pd.get_dummies(df, columns = ['Contract', 'PaymentMethod', 'MultipleLines', 'InternetService', 'OnlineSecurity', 'OnlineBackup', \n",
    "                                   'DeviceProtection', 'TechSupport', 'StreamingTV', 'StreamingMovies'], dtype=np.int64)\n"
   ]
  },
  {
   "cell_type": "code",
   "execution_count": 6,
   "metadata": {},
   "outputs": [
    {
     "data": {
      "text/html": [
       "<div>\n",
       "<style scoped>\n",
       "    .dataframe tbody tr th:only-of-type {\n",
       "        vertical-align: middle;\n",
       "    }\n",
       "\n",
       "    .dataframe tbody tr th {\n",
       "        vertical-align: top;\n",
       "    }\n",
       "\n",
       "    .dataframe thead th {\n",
       "        text-align: right;\n",
       "    }\n",
       "</style>\n",
       "<table border=\"1\" class=\"dataframe\">\n",
       "  <thead>\n",
       "    <tr style=\"text-align: right;\">\n",
       "      <th></th>\n",
       "      <th>tenure</th>\n",
       "      <th>PaperlessBilling</th>\n",
       "      <th>MonthlyCharges</th>\n",
       "      <th>TotalCharges</th>\n",
       "      <th>Churn</th>\n",
       "      <th>gender</th>\n",
       "      <th>SeniorCitizen</th>\n",
       "      <th>Partner</th>\n",
       "      <th>Dependents</th>\n",
       "      <th>PhoneService</th>\n",
       "      <th>...</th>\n",
       "      <th>OnlineBackup_No internet service</th>\n",
       "      <th>OnlineBackup_Yes</th>\n",
       "      <th>DeviceProtection_No internet service</th>\n",
       "      <th>DeviceProtection_Yes</th>\n",
       "      <th>TechSupport_No internet service</th>\n",
       "      <th>TechSupport_Yes</th>\n",
       "      <th>StreamingTV_No internet service</th>\n",
       "      <th>StreamingTV_Yes</th>\n",
       "      <th>StreamingMovies_No internet service</th>\n",
       "      <th>StreamingMovies_Yes</th>\n",
       "    </tr>\n",
       "  </thead>\n",
       "  <tbody>\n",
       "    <tr>\n",
       "      <th>0</th>\n",
       "      <td>1</td>\n",
       "      <td>1</td>\n",
       "      <td>29.85</td>\n",
       "      <td>29.85</td>\n",
       "      <td>0</td>\n",
       "      <td>0</td>\n",
       "      <td>0</td>\n",
       "      <td>1</td>\n",
       "      <td>0</td>\n",
       "      <td>0</td>\n",
       "      <td>...</td>\n",
       "      <td>0</td>\n",
       "      <td>1</td>\n",
       "      <td>0</td>\n",
       "      <td>0</td>\n",
       "      <td>0</td>\n",
       "      <td>0</td>\n",
       "      <td>0</td>\n",
       "      <td>0</td>\n",
       "      <td>0</td>\n",
       "      <td>0</td>\n",
       "    </tr>\n",
       "    <tr>\n",
       "      <th>1</th>\n",
       "      <td>34</td>\n",
       "      <td>0</td>\n",
       "      <td>56.95</td>\n",
       "      <td>1889.50</td>\n",
       "      <td>0</td>\n",
       "      <td>1</td>\n",
       "      <td>0</td>\n",
       "      <td>0</td>\n",
       "      <td>0</td>\n",
       "      <td>1</td>\n",
       "      <td>...</td>\n",
       "      <td>0</td>\n",
       "      <td>0</td>\n",
       "      <td>0</td>\n",
       "      <td>1</td>\n",
       "      <td>0</td>\n",
       "      <td>0</td>\n",
       "      <td>0</td>\n",
       "      <td>0</td>\n",
       "      <td>0</td>\n",
       "      <td>0</td>\n",
       "    </tr>\n",
       "    <tr>\n",
       "      <th>2</th>\n",
       "      <td>2</td>\n",
       "      <td>1</td>\n",
       "      <td>53.85</td>\n",
       "      <td>108.15</td>\n",
       "      <td>1</td>\n",
       "      <td>1</td>\n",
       "      <td>0</td>\n",
       "      <td>0</td>\n",
       "      <td>0</td>\n",
       "      <td>1</td>\n",
       "      <td>...</td>\n",
       "      <td>0</td>\n",
       "      <td>1</td>\n",
       "      <td>0</td>\n",
       "      <td>0</td>\n",
       "      <td>0</td>\n",
       "      <td>0</td>\n",
       "      <td>0</td>\n",
       "      <td>0</td>\n",
       "      <td>0</td>\n",
       "      <td>0</td>\n",
       "    </tr>\n",
       "    <tr>\n",
       "      <th>3</th>\n",
       "      <td>45</td>\n",
       "      <td>0</td>\n",
       "      <td>42.30</td>\n",
       "      <td>1840.75</td>\n",
       "      <td>0</td>\n",
       "      <td>1</td>\n",
       "      <td>0</td>\n",
       "      <td>0</td>\n",
       "      <td>0</td>\n",
       "      <td>0</td>\n",
       "      <td>...</td>\n",
       "      <td>0</td>\n",
       "      <td>0</td>\n",
       "      <td>0</td>\n",
       "      <td>1</td>\n",
       "      <td>0</td>\n",
       "      <td>1</td>\n",
       "      <td>0</td>\n",
       "      <td>0</td>\n",
       "      <td>0</td>\n",
       "      <td>0</td>\n",
       "    </tr>\n",
       "    <tr>\n",
       "      <th>4</th>\n",
       "      <td>2</td>\n",
       "      <td>1</td>\n",
       "      <td>70.70</td>\n",
       "      <td>151.65</td>\n",
       "      <td>1</td>\n",
       "      <td>0</td>\n",
       "      <td>0</td>\n",
       "      <td>0</td>\n",
       "      <td>0</td>\n",
       "      <td>1</td>\n",
       "      <td>...</td>\n",
       "      <td>0</td>\n",
       "      <td>0</td>\n",
       "      <td>0</td>\n",
       "      <td>0</td>\n",
       "      <td>0</td>\n",
       "      <td>0</td>\n",
       "      <td>0</td>\n",
       "      <td>0</td>\n",
       "      <td>0</td>\n",
       "      <td>0</td>\n",
       "    </tr>\n",
       "  </tbody>\n",
       "</table>\n",
       "<p>5 rows × 31 columns</p>\n",
       "</div>"
      ],
      "text/plain": [
       "   tenure  PaperlessBilling  MonthlyCharges  TotalCharges  Churn  gender  \\\n",
       "0       1                 1           29.85         29.85      0       0   \n",
       "1      34                 0           56.95       1889.50      0       1   \n",
       "2       2                 1           53.85        108.15      1       1   \n",
       "3      45                 0           42.30       1840.75      0       1   \n",
       "4       2                 1           70.70        151.65      1       0   \n",
       "\n",
       "   SeniorCitizen  Partner  Dependents  PhoneService  ...  \\\n",
       "0              0        1           0             0  ...   \n",
       "1              0        0           0             1  ...   \n",
       "2              0        0           0             1  ...   \n",
       "3              0        0           0             0  ...   \n",
       "4              0        0           0             1  ...   \n",
       "\n",
       "   OnlineBackup_No internet service  OnlineBackup_Yes  \\\n",
       "0                                 0                 1   \n",
       "1                                 0                 0   \n",
       "2                                 0                 1   \n",
       "3                                 0                 0   \n",
       "4                                 0                 0   \n",
       "\n",
       "   DeviceProtection_No internet service  DeviceProtection_Yes  \\\n",
       "0                                     0                     0   \n",
       "1                                     0                     1   \n",
       "2                                     0                     0   \n",
       "3                                     0                     1   \n",
       "4                                     0                     0   \n",
       "\n",
       "   TechSupport_No internet service  TechSupport_Yes  \\\n",
       "0                                0                0   \n",
       "1                                0                0   \n",
       "2                                0                0   \n",
       "3                                0                1   \n",
       "4                                0                0   \n",
       "\n",
       "   StreamingTV_No internet service  StreamingTV_Yes  \\\n",
       "0                                0                0   \n",
       "1                                0                0   \n",
       "2                                0                0   \n",
       "3                                0                0   \n",
       "4                                0                0   \n",
       "\n",
       "   StreamingMovies_No internet service  StreamingMovies_Yes  \n",
       "0                                    0                    0  \n",
       "1                                    0                    0  \n",
       "2                                    0                    0  \n",
       "3                                    0                    0  \n",
       "4                                    0                    0  \n",
       "\n",
       "[5 rows x 31 columns]"
      ]
     },
     "execution_count": 6,
     "metadata": {},
     "output_type": "execute_result"
    }
   ],
   "source": [
    "df.drop(['customerID', 'Contract_Two year', 'Unnamed: 0', 'PaymentMethod_Mailed check', 'MultipleLines_No', 'InternetService_No',\n",
    "         'OnlineSecurity_No', 'OnlineBackup_No', 'DeviceProtection_No', 'TechSupport_No', 'StreamingTV_No', 'StreamingMovies_No'], axis=1, inplace=True)\n",
    "df.head()"
   ]
  },
  {
   "cell_type": "code",
   "execution_count": 7,
   "metadata": {},
   "outputs": [],
   "source": [
    "y = df['Churn']\n",
    "X_data = df[['MonthlyCharges', 'gender', 'Dependents', 'tenure', 'PhoneService', 'Contract_Month-to-month', 'Contract_One year', \n",
    "             'PaymentMethod_Bank transfer (automatic)', 'PaymentMethod_Credit card (automatic)','PaymentMethod_Electronic check',\n",
    "             'MultipleLines_Yes', 'MultipleLines_No phone service', 'MultipleLines_Yes', 'InternetService_DSL',]]\n",
    "\n",
    "x_train, x_, y_train, y_ = train_test_split(X_data, y, test_size=0.40, random_state=80)  # Get 60% of the dataset as the training set\n",
    "x_cv, x_test, y_cv, y_test = train_test_split(x_, y_, test_size=0.50, random_state=80)  # Split the 40% subset into cross validation and test"
   ]
  },
  {
   "attachments": {},
   "cell_type": "markdown",
   "metadata": {},
   "source": [
    "### 3. Base model"
   ]
  },
  {
   "cell_type": "code",
   "execution_count": 9,
   "metadata": {},
   "outputs": [
    {
     "name": "stdout",
     "output_type": "stream",
     "text": [
      "Training MSE: 0.09919\n",
      "Test MSE: 0.10554\n",
      "Test set F1 score: 0.59147\n",
      "Test set accuracy score: 0.53885\n"
     ]
    }
   ],
   "source": [
    "base_scaler = StandardScaler()\n",
    "X_train_scaled = base_scaler.fit_transform(x_train)\n",
    "X_cv_scaled = base_scaler.transform(x_cv)  # Scale the cross validation set\n",
    "X_test_scaled = base_scaler.transform(x_test)\n",
    "\n",
    "base_model = LogisticRegression()\n",
    "base_model.fit(X_train_scaled, y_train)\n",
    "yhat = base_model.predict(X_train_scaled)\n",
    "yhat_test = base_model.predict(X_test_scaled)\n",
    "        \n",
    "print(f\"Training MSE: {(mean_squared_error(y_train, yhat) / 2):.5f}\")\n",
    "print(f\"Test MSE: {(mean_squared_error(y_test, yhat_test) / 2):.5f}\")\n",
    "print(f\"Test set F1 score: {f1_score(y_test, yhat_test):.5f}\")\n",
    "print(f\"Test set accuracy score: {recall_score(y_test, yhat_test):.5f}\")"
   ]
  },
  {
   "attachments": {},
   "cell_type": "markdown",
   "metadata": {},
   "source": [
    "### 4. Handling imbalanced dataset to improve performance"
   ]
  },
  {
   "cell_type": "code",
   "execution_count": 20,
   "metadata": {},
   "outputs": [
    {
     "data": {
      "text/plain": [
       "0    3116\n",
       "1    3116\n",
       "Name: Churn, dtype: int64"
      ]
     },
     "execution_count": 20,
     "metadata": {},
     "output_type": "execute_result"
    }
   ],
   "source": [
    "X = pd.concat([x_train, y_train], axis=1)  # concat x train and y train\n",
    "not_churn = X[X['Churn'] == 0]; churn = X[X['Churn'] == 1]  # separate minority and majority classes\n",
    "\n",
    "# upsample minory\n",
    "churn_upsampled = resample(churn, replace=True, # sample with replacement\n",
    "                        n_samples=len(not_churn), # match number in majority class\n",
    "                        random_state=27) # reproducible results\n",
    "\n",
    "upsampled = pd.concat([not_churn, churn_upsampled])  # combine majority and upsampled minority\n",
    "# X['Churn'].value_counts()  # before upsampling, check class counts\n",
    "upsampled['Churn'].value_counts()   # after upsampling, check class counts"
   ]
  },
  {
   "cell_type": "code",
   "execution_count": 21,
   "metadata": {},
   "outputs": [],
   "source": [
    "y_train = upsampled['Churn']\n",
    "x_train = upsampled.drop('Churn', axis=1)\n",
    "\n",
    "linear_scaler = StandardScaler()\n",
    "X_train_scaled = linear_scaler.fit_transform(x_train)\n",
    "X_cv_scaled = linear_scaler.transform(x_cv)  # Scale the cross validation set\n",
    "X_test_scaled = linear_scaler.transform(x_test)"
   ]
  },
  {
   "cell_type": "code",
   "execution_count": 22,
   "metadata": {},
   "outputs": [
    {
     "name": "stdout",
     "output_type": "stream",
     "text": [
      "Training MSE: 0.11305\n",
      "Cross validation MSE: 0.14936\n",
      "Test set f1 score: 0.63471\n",
      "Test set accuracy score: 0.82957\n"
     ]
    }
   ],
   "source": [
    "base_reviewed = LogisticRegression()\n",
    "base_reviewed .fit(X_train_scaled, y_train)\n",
    "yhat = base_reviewed .predict(X_train_scaled)\n",
    "yhat_cv = base_reviewed .predict(X_cv_scaled)\n",
    "yhat_test = base_reviewed .predict(X_test_scaled)\n",
    "        \n",
    "print(f\"Training MSE: {(mean_squared_error(y_train, yhat) / 2):.5f}\")\n",
    "print(f\"Cross validation MSE: {(mean_squared_error(y_cv, yhat_cv) / 2):.5f}\")\n",
    "print(f\"Test set f1 score: {f1_score(y_test, yhat_test):.5f}\")\n",
    "print(f\"Test set accuracy score: {recall_score(y_test, yhat_test):.5f}\")"
   ]
  },
  {
   "attachments": {},
   "cell_type": "markdown",
   "metadata": {},
   "source": [
    "### 5. Compare performance of different models"
   ]
  },
  {
   "cell_type": "code",
   "execution_count": null,
   "metadata": {},
   "outputs": [],
   "source": [
    "classifiers = [\n",
    "    KNeighborsClassifier(3),\n",
    "    DecisionTreeClassifier(),\n",
    "    RandomForestClassifier(),\n",
    "    XGBClassifier(),\n",
    "    AdaBoostClassifier(),\n",
    "    GradientBoostingClassifier(),\n",
    "    GaussianNB(),\n",
    "    LogisticRegression(),\n",
    "    ]"
   ]
  },
  {
   "cell_type": "code",
   "execution_count": null,
   "metadata": {},
   "outputs": [],
   "source": [
    "# Logging for Visual Comparison\n",
    "log_cols=[\"Classifier\", \"F1\", \"Recall\"]\n",
    "log = pd.DataFrame(columns=log_cols)\n",
    "\n",
    "for clf in classifiers:\n",
    "    clf.fit(X_train_scaled, y_train)\n",
    "    name = clf.__class__.__name__\n",
    "    \n",
    "    # print(name)\n",
    "    train_predictions = clf.predict(X_test_scaled)\n",
    "    acc = f1_score(y_test, train_predictions)\n",
    "    # print(\"F1: {:.4}\".format(acc))\n",
    "    \n",
    "    ll = recall_score(y_test, train_predictions)\n",
    "    # print(\"Recall: {}\".format(ll))\n",
    "    \n",
    "    log_entry = pd.DataFrame([[name, acc*100, ll]], columns=log_cols)\n",
    "    log = log.append(log_entry)"
   ]
  },
  {
   "cell_type": "code",
   "execution_count": null,
   "metadata": {},
   "outputs": [],
   "source": [
    "fig, ax = plt.subplots(nrows=1, ncols=2, figsize=(10, 4), sharey=True)\n",
    "sns.set_color_codes(\"muted\")\n",
    "sns.barplot(x='F1', y='Classifier', data=log, color=\"b\", ax=ax[0])\n",
    "\n",
    "ax[0].set_xlabel('F1')\n",
    "ax[0].set_title('F1 Score')\n",
    "\n",
    "# ax.set_color_codes(\"muted\")\n",
    "sns.barplot(x='Recall', y='Classifier', data=log, color=\"g\", ax=ax[1])\n",
    "ax[1].set(ylabel=None)\n",
    "ax[1].set_xlabel('Recall')\n",
    "ax[1].set_title('Recall Score')\n",
    "\n",
    "fig.suptitle('Classifers Performance')\n",
    "plt.tight_layout()\n",
    "plt.show()"
   ]
  },
  {
   "attachments": {},
   "cell_type": "markdown",
   "metadata": {},
   "source": [
    "### 6. Choose model with the best performance"
   ]
  },
  {
   "cell_type": "code",
   "execution_count": 28,
   "metadata": {},
   "outputs": [
    {
     "name": "stdout",
     "output_type": "stream",
     "text": [
      "Best parameters: {'C': 0.01, 'penalty': 'l1', 'random_state': 12, 'solver': 'saga'}\n",
      "Best score: 0.7889179666475264\n",
      "Training MSE: 0.11409\n",
      "Cross validation MSE: 0.14936\n",
      "Test set f1 score: 0.62100\n",
      "Test set accuracy score: 0.85213\n"
     ]
    }
   ],
   "source": [
    "best_model = GradientBoostingClassifier()\n",
    "warnings.filterwarnings('ignore')\n",
    "params = {\n",
    "    'C': np.logspace(-3,3,7),\n",
    "    'penalty': ['none','l2','l1'],\n",
    "    'solver': ['newton-cg', 'lbfgs', 'liblinear', 'sag', 'saga'],\n",
    "    'random_state': [12]\n",
    "}\n",
    "\n",
    "grid_bestm = GridSearchCV(base_model, param_grid=params, cv=5, scoring='f1').fit(X_train_scaled, y_train)\n",
    "print('Best parameters:', grid_bestm.best_params_)\n",
    "print('Best score:', grid_bestm.best_score_)\n",
    "\n",
    "yhat = grid_bestm.predict(X_train_scaled)\n",
    "yhat_test = grid_bestm.predict(X_test_scaled)\n",
    "        \n",
    "print(f\"Training MSE: {(mean_squared_error(y_train, yhat) / 2):.5f}\")\n",
    "print(f\"Cross validation MSE: {(mean_squared_error(y_cv, yhat_cv) / 2):.5f}\")\n",
    "print(f\"Test set f1 score: {f1_score(y_test, yhat_test):.5f}\")\n",
    "print(f\"Test set accuracy score: {recall_score(y_test, yhat_test):.5f}\")"
   ]
  },
  {
   "cell_type": "code",
   "execution_count": 13,
   "metadata": {},
   "outputs": [
    {
     "name": "stdout",
     "output_type": "stream",
     "text": [
      "Training MSE: 0.09933\n",
      "Cross validation MSE: 0.13940\n",
      "Test set f1 score: 0.65112\n",
      "Test set accuracy score: 0.80451\n"
     ]
    }
   ],
   "source": [
    "best_model = GradientBoostingClassifier().fit(X_train_scaled, y_train)\n",
    "yhat = best_model.predict(X_train_scaled)\n",
    "yhat_test = best_model.predict(X_test_scaled)\n",
    "        \n",
    "print(f\"Training MSE: {(mean_squared_error(y_train, yhat) / 2):.5f}\")\n",
    "print(f\"Cross validation MSE: {(mean_squared_error(y_cv, yhat_cv) / 2):.5f}\")\n",
    "print(f\"Test set f1 score: {f1_score(y_test, yhat_test):.5f}\")\n",
    "print(f\"Test set accuracy score: {recall_score(y_test, yhat_test):.5f}\")"
   ]
  },
  {
   "attachments": {},
   "cell_type": "markdown",
   "metadata": {},
   "source": [
    "### 7. ROC AUC and AUC of the best model"
   ]
  },
  {
   "cell_type": "code",
   "execution_count": 23,
   "metadata": {},
   "outputs": [
    {
     "data": {
      "image/png": "[encoded data removed]",
      "text/plain": [
       "<Figure size 640x480 with 1 Axes>"
      ]
     },
     "metadata": {},
     "output_type": "display_data"
    }
   ],
   "source": [
    "# Add the models to the list that you want to view on the ROC plot\n",
    "models = [{'label': 'LogisticReg', 'model': base_model},\n",
    "{'label': 'SGDClass', 'model': best_model}]\n",
    "utils.plot_roc(models, X_test_scaled, y_test)"
   ]
  },
  {
   "cell_type": "code",
   "execution_count": 24,
   "metadata": {},
   "outputs": [
    {
     "data": {
      "image/png": "[encoded data removed]",
      "text/plain": [
       "<Figure size 640x480 with 1 Axes>"
      ]
     },
     "metadata": {},
     "output_type": "display_data"
    }
   ],
   "source": [
    "utils.plot_auc(models, X_test_scaled, y_test)"
   ]
  }
 ],
 "metadata": {
  "kernelspec": {
   "display_name": "projectVenv",
   "language": "python",
   "name": "python3"
  },
  "language_info": {
   "codemirror_mode": {
    "name": "ipython",
    "version": 3
   },
   "file_extension": ".py",
   "mimetype": "text/x-python",
   "name": "python",
   "nbconvert_exporter": "python",
   "pygments_lexer": "ipython3",
   "version": "3.9.13"
  },
  "orig_nbformat": 4,
  "vscode": {
   "interpreter": {
    "hash": "4edf734b6338d9b84150e8d7209c3463b842bb91115fbd67a2ca82c345f112ba"
   }
  }
 },
 "nbformat": 4,
 "nbformat_minor": 2
}
