{
 "cells": [
  {
   "cell_type": "code",
   "execution_count": 1,
   "metadata": {},
   "outputs": [],
   "source": [
    "import os\n",
    "import numpy as np\n",
    "import pandas as pd\n",
    "import psycopg2 as ps\n",
    "import sys\n",
    "sys.path.append(\"../src\")\n",
    "import automate_csv_utils as ac"
   ]
  },
  {
   "cell_type": "code",
   "execution_count": 9,
   "metadata": {},
   "outputs": [
    {
     "name": "stdout",
     "output_type": "stream",
     "text": [
      "Successfully connected to DB!\n"
     ]
    }
   ],
   "source": [
    "# db settings\n",
    "host = 'XXX'\n",
    "dbname = 'XXX'\n",
    "port = '7099'\n",
    "user_name = 'XXX'\n",
    "password = 'XXX'\n",
    "\n",
    "conn = ac.connect_to_db(host, dbname, user_name, password, port)\n",
    "\n",
    "# folder settings\n",
    "dataset_dir = 'datasets'\n",
    "csv_files = ac.get_csv_filenames()\n",
    "ac.configure_folder_directory(csv_files, dataset_dir)\n",
    "df = ac.create_df(dataset_dir, csv_files)"
   ]
  },
  {
   "cell_type": "code",
   "execution_count": 10,
   "metadata": {},
   "outputs": [],
   "source": [
    "cursor = conn.cursor()\n",
    "\n",
    "for file in csv_files:\n",
    "    tbl_name = ac.clean_tablename(file)   #clean table name\n",
    "    dataframe = df[file]                  #call dataframe\n",
    "    col_str, col_name = ac.clean_colname(dataframe)  #clean column names\n",
    "    ac.upload_to_db(cursor, tbl_name, col_str, file=file, dataframe=dataframe, column_names=col_name)  #upload data to db  \n",
    "\n",
    "conn.commit()\n",
    "conn.close()"
   ]
  }
 ],
 "metadata": {
  "kernelspec": {
   "display_name": "projectVenv",
   "language": "python",
   "name": "python3"
  },
  "language_info": {
   "codemirror_mode": {
    "name": "ipython",
    "version": 3
   },
   "file_extension": ".py",
   "mimetype": "text/x-python",
   "name": "python",
   "nbconvert_exporter": "python",
   "pygments_lexer": "ipython3",
   "version": "3.9.13 (main, Oct 13 2022, 16:12:30) \n[Clang 12.0.0 ]"
  },
  "orig_nbformat": 4,
  "vscode": {
   "interpreter": {
    "hash": "4edf734b6338d9b84150e8d7209c3463b842bb91115fbd67a2ca82c345f112ba"
   }
  }
 },
 "nbformat": 4,
 "nbformat_minor": 2
}
