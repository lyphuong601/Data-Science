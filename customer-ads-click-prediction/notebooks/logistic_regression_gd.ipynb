{
 "cells": [
  {
   "cell_type": "code",
   "execution_count": 6,
   "metadata": {},
   "outputs": [],
   "source": [
    "import pandas as pd\n",
    "import numpy as np\n",
    "import copy\n",
    "import math\n",
    "import sys\n",
    "sys.path.append(\"../src\")\n",
    "import train_model as tm\n",
    "import process_data as process"
   ]
  },
  {
   "cell_type": "code",
   "execution_count": 7,
   "metadata": {},
   "outputs": [
    {
     "data": {
      "text/html": [
       "<div>\n",
       "<style scoped>\n",
       "    .dataframe tbody tr th:only-of-type {\n",
       "        vertical-align: middle;\n",
       "    }\n",
       "\n",
       "    .dataframe tbody tr th {\n",
       "        vertical-align: top;\n",
       "    }\n",
       "\n",
       "    .dataframe thead th {\n",
       "        text-align: right;\n",
       "    }\n",
       "</style>\n",
       "<table border=\"1\" class=\"dataframe\">\n",
       "  <thead>\n",
       "    <tr style=\"text-align: right;\">\n",
       "      <th></th>\n",
       "      <th>Daily Time Spent on Site</th>\n",
       "      <th>Age</th>\n",
       "      <th>Area Income</th>\n",
       "      <th>Daily Internet Usage</th>\n",
       "      <th>Ad Topic Line</th>\n",
       "      <th>City</th>\n",
       "      <th>Male</th>\n",
       "      <th>Country</th>\n",
       "      <th>Timestamp</th>\n",
       "      <th>Clicked on Ad</th>\n",
       "    </tr>\n",
       "  </thead>\n",
       "  <tbody>\n",
       "    <tr>\n",
       "      <th>0</th>\n",
       "      <td>68.950</td>\n",
       "      <td>35</td>\n",
       "      <td>61,833.900</td>\n",
       "      <td>256.090</td>\n",
       "      <td>Cloned 5thgeneration orchestration</td>\n",
       "      <td>Wrightburgh</td>\n",
       "      <td>0</td>\n",
       "      <td>Tunisia</td>\n",
       "      <td>2016-03-27 00:53:11</td>\n",
       "      <td>0</td>\n",
       "    </tr>\n",
       "    <tr>\n",
       "      <th>1</th>\n",
       "      <td>80.230</td>\n",
       "      <td>31</td>\n",
       "      <td>68,441.850</td>\n",
       "      <td>193.770</td>\n",
       "      <td>Monitored national standardization</td>\n",
       "      <td>West Jodi</td>\n",
       "      <td>1</td>\n",
       "      <td>Nauru</td>\n",
       "      <td>2016-04-04 01:39:02</td>\n",
       "      <td>0</td>\n",
       "    </tr>\n",
       "    <tr>\n",
       "      <th>2</th>\n",
       "      <td>69.470</td>\n",
       "      <td>26</td>\n",
       "      <td>59,785.940</td>\n",
       "      <td>236.500</td>\n",
       "      <td>Organic bottom-line service-desk</td>\n",
       "      <td>Davidton</td>\n",
       "      <td>0</td>\n",
       "      <td>San Marino</td>\n",
       "      <td>2016-03-13 20:35:42</td>\n",
       "      <td>0</td>\n",
       "    </tr>\n",
       "    <tr>\n",
       "      <th>3</th>\n",
       "      <td>74.150</td>\n",
       "      <td>29</td>\n",
       "      <td>54,806.180</td>\n",
       "      <td>245.890</td>\n",
       "      <td>Triple-buffered reciprocal time-frame</td>\n",
       "      <td>West Terrifurt</td>\n",
       "      <td>1</td>\n",
       "      <td>Italy</td>\n",
       "      <td>2016-01-10 02:31:19</td>\n",
       "      <td>0</td>\n",
       "    </tr>\n",
       "    <tr>\n",
       "      <th>4</th>\n",
       "      <td>68.370</td>\n",
       "      <td>35</td>\n",
       "      <td>73,889.990</td>\n",
       "      <td>225.580</td>\n",
       "      <td>Robust logistical utilization</td>\n",
       "      <td>South Manuel</td>\n",
       "      <td>0</td>\n",
       "      <td>Iceland</td>\n",
       "      <td>2016-06-03 03:36:18</td>\n",
       "      <td>0</td>\n",
       "    </tr>\n",
       "  </tbody>\n",
       "</table>\n",
       "</div>"
      ],
      "text/plain": [
       "   Daily Time Spent on Site  Age  Area Income  Daily Internet Usage                          Ad Topic Line            City  Male     Country            Timestamp  Clicked on Ad\n",
       "0                    68.950   35   61,833.900               256.090     Cloned 5thgeneration orchestration     Wrightburgh     0     Tunisia  2016-03-27 00:53:11              0\n",
       "1                    80.230   31   68,441.850               193.770     Monitored national standardization       West Jodi     1       Nauru  2016-04-04 01:39:02              0\n",
       "2                    69.470   26   59,785.940               236.500       Organic bottom-line service-desk        Davidton     0  San Marino  2016-03-13 20:35:42              0\n",
       "3                    74.150   29   54,806.180               245.890  Triple-buffered reciprocal time-frame  West Terrifurt     1       Italy  2016-01-10 02:31:19              0\n",
       "4                    68.370   35   73,889.990               225.580          Robust logistical utilization    South Manuel     0     Iceland  2016-06-03 03:36:18              0"
      ]
     },
     "execution_count": 7,
     "metadata": {},
     "output_type": "execute_result"
    }
   ],
   "source": [
    "df = process.load_data('../data/raw/advertising.csv')\n",
    "df.head()"
   ]
  },
  {
   "cell_type": "code",
   "execution_count": 8,
   "metadata": {},
   "outputs": [],
   "source": [
    "X_features = ['Age', 'Area Income', 'Daily Internet Usage']\n",
    "X = df[X_features]\n",
    "y = df[['Clicked on Ad']]\n",
    "X_norm = process.zscore_normalize_features(X)[0]"
   ]
  },
  {
   "cell_type": "code",
   "execution_count": 9,
   "metadata": {},
   "outputs": [
    {
     "name": "stdout",
     "output_type": "stream",
     "text": [
      "Iteration    0: Cost 0.6904324041649579   \n",
      "Iteration 1000: Cost 0.2443197616732907   \n",
      "Iteration 2000: Cost 0.21504030267115307   \n",
      "Iteration 3000: Cost 0.20571570453789176   \n",
      "Iteration 4000: Cost 0.20156505738247374   \n",
      "Iteration 5000: Cost 0.1994138964099666   \n",
      "Iteration 6000: Cost 0.19819691589009317   \n",
      "Iteration 7000: Cost 0.19746826389671254   \n",
      "Iteration 8000: Cost 0.1970145103657297   \n",
      "Iteration 9000: Cost 0.19672378490191583   \n",
      "                          0\n",
      "Age                   1.177\n",
      "Area Income          -1.252\n",
      "Daily Internet Usage -2.783\n",
      "0   0.527\n",
      "dtype: float64\n"
     ]
    }
   ],
   "source": [
    "initial_w = np.zeros((X.shape[1], 1))\n",
    "initial_b = 0.\n",
    "iterations = 10000\n",
    "alpha = 1.0e-2\n",
    "w, b, hist = tm.gradient_descent(X_norm, y, initial_w, initial_b, alpha, iterations)\n",
    "print(w)\n",
    "print(b)"
   ]
  }
 ],
 "metadata": {
  "kernelspec": {
   "display_name": "projectVenv",
   "language": "python",
   "name": "python3"
  },
  "language_info": {
   "codemirror_mode": {
    "name": "ipython",
    "version": 3
   },
   "file_extension": ".py",
   "mimetype": "text/x-python",
   "name": "python",
   "nbconvert_exporter": "python",
   "pygments_lexer": "ipython3",
   "version": "3.9.13"
  },
  "orig_nbformat": 4,
  "vscode": {
   "interpreter": {
    "hash": "4edf734b6338d9b84150e8d7209c3463b842bb91115fbd67a2ca82c345f112ba"
   }
  }
 },
 "nbformat": 4,
 "nbformat_minor": 2
}
