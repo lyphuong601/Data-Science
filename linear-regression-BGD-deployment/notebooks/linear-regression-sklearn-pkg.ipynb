{
 "cells": [
  {
   "attachments": {},
   "cell_type": "markdown",
   "metadata": {},
   "source": [
    "## Linear regression using scikit-learn package\n",
    "\n",
    "#### 1. Import package and load data"
   ]
  },
  {
   "cell_type": "code",
   "execution_count": null,
   "metadata": {},
   "outputs": [],
   "source": [
    "import pandas as pd\n",
    "import numpy as np\n",
    "import matplotlib.pyplot as plt\n",
    "\n",
    "from sklearn.linear_model import SGDRegressor, LinearRegression\n",
    "from sklearn.preprocessing import StandardScaler\n",
    "from sklearn.metrics import mean_squared_error\n",
    "from sklearn.model_selection import learning_curve\n",
    "\n",
    "import sys\n",
    "sys.path.append(\"../src\")\n",
    "import process\n",
    "\n",
    "np.set_printoptions(precision=2)"
   ]
  },
  {
   "cell_type": "code",
   "execution_count": null,
   "metadata": {},
   "outputs": [],
   "source": [
    "headers = [\"symboling\",\"normalized-losses\",\"make\",\"fuel-type\",\"aspiration\", \"num-of-doors\",\"body-style\",\n",
    "         \"drive-wheels\",\"engine-location\",\"wheel-base\", \"length\",\"width\",\"height\",\"curb-weight\",\"engine-type\",\n",
    "         \"num-of-cylinders\", \"engine-size\",\"fuel-system\",\"bore\",\"stroke\",\"compression-ratio\",\"horsepower\",\n",
    "         \"peak-rpm\",\"city-mpg\",\"highway-mpg\",\"price\"]\n",
    "df = pd.read_csv(\"../data/raw/automobile-price-prediction.csv\", names=headers)\n",
    "df.head()\n"
   ]
  },
  {
   "attachments": {},
   "cell_type": "markdown",
   "metadata": {},
   "source": [
    "#### 2. Data pre-processing"
   ]
  },
  {
   "cell_type": "code",
   "execution_count": null,
   "metadata": {},
   "outputs": [],
   "source": [
    "# clean data and drop NA\n",
    "process_columns = ['engine-size', 'stroke', 'wheel-base', 'bore', 'compression-ratio', 'horsepower', 'highway-mpg', 'price']\n",
    "df.replace(\"?\",np.nan,inplace=True)\n",
    "process.drop_na_data(df, process_columns)\n",
    "process.change_dtypes(df, process_columns)\n"
   ]
  },
  {
   "cell_type": "code",
   "execution_count": null,
   "metadata": {},
   "outputs": [],
   "source": [
    "# data standardization\n",
    "X_features = ['engine-size', 'stroke', 'wheel-base', 'bore', 'compression-ratio', 'horsepower', 'highway-mpg']\n",
    "X = df[X_features]\n",
    "y = df[\"price\"]\n",
    "scaler = StandardScaler()\n",
    "X_norm = scaler.fit_transform(X)"
   ]
  },
  {
   "attachments": {},
   "cell_type": "markdown",
   "metadata": {},
   "source": [
    "#### 3. Linear regression with SGD regressor"
   ]
  },
  {
   "cell_type": "code",
   "execution_count": null,
   "metadata": {},
   "outputs": [],
   "source": [
    "sgdr = SGDRegressor(loss=\"squared_error\", max_iter=1000)  # max_iter = np.ceil(10**6/ len(y))\n",
    "sgdr.fit(X_norm, y)\n",
    "\n",
    "# print(sgdr)\n",
    "print(f\"Number of iterations completed: {sgdr.n_iter_}, number of weight updates: {sgdr.t_}\")\n",
    "print(f\"Model parameters:                w: {sgdr.coef_}, b:{sgdr.intercept_}\")\n",
    "\n",
    "y_pred_gd = sgdr.predict(X_norm)\n",
    "print('Multiple Linear Regression (SGD) accuracy parameters:')\n",
    "print('\\tThe R-square: {:.3f}'.format(sgdr.score(X_norm, y)))\n",
    "print('\\tOutput of the 1st 4 predicted value:', sgdr.predict(X_norm) [0:4])\n",
    "mse = mean_squared_error(y, y_pred_gd)\n",
    "print('\\tMean square error of actual & predicted order value: {:.3f}'.format(mse))"
   ]
  },
  {
   "attachments": {},
   "cell_type": "markdown",
   "metadata": {},
   "source": [
    "#### 4. Linear regression with LinearRegression"
   ]
  },
  {
   "cell_type": "code",
   "execution_count": null,
   "metadata": {},
   "outputs": [],
   "source": [
    "# Utilize  scikit-learn to implement linear regression using a close form solution based on the normal equation\n",
    "linear_model = LinearRegression()\n",
    "linear_model.fit(X_norm, y)\n",
    "\n",
    "# print(linear_model)\n",
    "print(f\"Model parameters:                w: {linear_model.coef_}, b:{linear_model.intercept_}\")\n",
    "\n",
    "y_pred_lm = linear_model.predict(X_norm)  # predict\n",
    "print('Multiple Linear Regression (LinearRegression) accuracy parameters:')\n",
    "print('\\tThe R-square: {:.3f}'.format(linear_model.score(X_norm, y)))\n",
    "print('\\tOutput of the 1st 4 predicted value:', y_pred_lm[0:4])\n",
    "mse = mean_squared_error(y, y_pred_lm)\n",
    "print('\\tMean square error of actual & predicted order value: {:.3f}'.format(mse))"
   ]
  },
  {
   "attachments": {},
   "cell_type": "markdown",
   "metadata": {},
   "source": [
    "#### 5. Learning curve"
   ]
  },
  {
   "cell_type": "code",
   "execution_count": null,
   "metadata": {},
   "outputs": [],
   "source": [
    "# train_sizes = [1, 40, 80, 120, 144]\n",
    "train_sizes, train_scores, validation_scores = learning_curve(estimator = SGDRegressor(loss=\"squared_error\", max_iter=500000),\n",
    "                                                              X = X_norm, y = y, #train_sizes = train_sizes,\n",
    "                                                              cv = 10, scoring = 'neg_mean_squared_error', shuffle=True)\n",
    "\n",
    "train_scores_mean = -train_scores.mean(axis=1)\n",
    "validation_scores_mean = -validation_scores.mean(axis=1)\n",
    "\n",
    "plt.style.use('seaborn')\n",
    "plt.plot(train_sizes, train_scores_mean, label = 'Training error') \n",
    "plt.plot(train_sizes, validation_scores_mean, label = 'Validation error')\n",
    "plt.ylabel('MSE', fontsize = 14)\n",
    "plt.xlabel('Training set size', fontsize = 14)\n",
    "plt.title('Learning curves for a linear regression model', fontsize = 18, y = 1.03)\n",
    "plt.legend(); plt.show()"
   ]
  }
 ],
 "metadata": {
  "kernelspec": {
   "display_name": "projectVenv",
   "language": "python",
   "name": "python3"
  },
  "language_info": {
   "codemirror_mode": {
    "name": "ipython",
    "version": 3
   },
   "file_extension": ".py",
   "mimetype": "text/x-python",
   "name": "python",
   "nbconvert_exporter": "python",
   "pygments_lexer": "ipython3",
   "version": "3.9.13 (main, Oct 13 2022, 16:12:30) \n[Clang 12.0.0 ]"
  },
  "orig_nbformat": 4,
  "vscode": {
   "interpreter": {
    "hash": "4edf734b6338d9b84150e8d7209c3463b842bb91115fbd67a2ca82c345f112ba"
   }
  }
 },
 "nbformat": 4,
 "nbformat_minor": 2
}
