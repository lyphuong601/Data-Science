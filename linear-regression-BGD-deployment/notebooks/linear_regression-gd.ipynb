{
 "cells": [
  {
   "cell_type": "code",
   "execution_count": null,
   "metadata": {},
   "outputs": [],
   "source": [
    "import pandas as pd\n",
    "import numpy as np\n",
    "import sys\n",
    "sys.path.append(\"../src\")\n",
    "import train_model as tm"
   ]
  },
  {
   "cell_type": "code",
   "execution_count": null,
   "metadata": {},
   "outputs": [],
   "source": [
    "headers = [\"symboling\",\"normalized-losses\",\"make\",\"fuel-type\",\"aspiration\", \"num-of-doors\",\"body-style\",\n",
    "         \"drive-wheels\",\"engine-location\",\"wheel-base\", \"length\",\"width\",\"height\",\"curb-weight\",\"engine-type\",\n",
    "         \"num-of-cylinders\", \"engine-size\",\"fuel-system\",\"bore\",\"stroke\",\"compression-ratio\",\"horsepower\",\n",
    "         \"peak-rpm\",\"city-mpg\",\"highway-mpg\",\"price\"]\n",
    "df = pd.read_csv(\"../data/raw/automobile-price-prediction.csv\", names=headers)\n",
    "df.head()"
   ]
  },
  {
   "cell_type": "code",
   "execution_count": null,
   "metadata": {},
   "outputs": [],
   "source": [
    "df.replace(\"?\",np.nan,inplace=True)\n",
    "df.dropna(subset=[\"price\"],axis=0,inplace=True)\n",
    "df.dropna(subset=[\"engine-size\"],axis=0,inplace=True)\n",
    "df.dropna(subset=[\"stroke\"],axis=0,inplace=True)\n",
    "df[[\"price\"]] = df[[\"price\"]].astype(\"float\")\n",
    "df[[\"engine-size\"]] = df[[\"engine-size\"]].astype(\"float\")\n",
    "df[[\"stroke\"]] = df[[\"stroke\"]].astype(\"float\")"
   ]
  },
  {
   "cell_type": "code",
   "execution_count": null,
   "metadata": {},
   "outputs": [],
   "source": [
    "X = df[['engine-size', 'stroke']]\n",
    "y = df[[\"price\"]]"
   ]
  },
  {
   "cell_type": "code",
   "execution_count": null,
   "metadata": {},
   "outputs": [],
   "source": [
    "X_norm = tm.zscore_normalize_features(X)\n",
    "X_norm.shape"
   ]
  },
  {
   "cell_type": "code",
   "execution_count": null,
   "metadata": {},
   "outputs": [],
   "source": [
    "initial_w = np.zeros((X.shape[1], 1))\n",
    "initial_b = 0.\n",
    "iterations = 1000\n",
    "alpha = 1.0e-1\n",
    "w, b, hist_ = tm.gradient_descent(X_norm, y, initial_w, initial_b, alpha, iterations)\n",
    "print(w)\n",
    "print(b)"
   ]
  }
 ],
 "metadata": {
  "kernelspec": {
   "display_name": "projectVenv",
   "language": "python",
   "name": "python3"
  },
  "language_info": {
   "codemirror_mode": {
    "name": "ipython",
    "version": 3
   },
   "file_extension": ".py",
   "mimetype": "text/x-python",
   "name": "python",
   "nbconvert_exporter": "python",
   "pygments_lexer": "ipython3",
   "version": "3.9.13"
  },
  "orig_nbformat": 4,
  "vscode": {
   "interpreter": {
    "hash": "4edf734b6338d9b84150e8d7209c3463b842bb91115fbd67a2ca82c345f112ba"
   }
  }
 },
 "nbformat": 4,
 "nbformat_minor": 2
}
